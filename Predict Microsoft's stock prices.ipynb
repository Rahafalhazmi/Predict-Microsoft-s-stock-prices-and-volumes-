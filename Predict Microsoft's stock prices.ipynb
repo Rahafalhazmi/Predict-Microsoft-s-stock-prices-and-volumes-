{
 "cells": [
  {
   "cell_type": "markdown",
   "id": "484ac5d6",
   "metadata": {},
   "source": [
    "# CS677 Deep Learning – Homework 4"
   ]
  },
  {
   "cell_type": "markdown",
   "id": "1e9bfa93",
   "metadata": {},
   "source": [
    "#### Rahaf Alhazmi"
   ]
  },
  {
   "cell_type": "markdown",
   "id": "46e83473",
   "metadata": {},
   "source": [
    "## Predict Microsoft's stock prices and volumes in the following 2 weeks (11/08/2021 to 11/19/2021) by using RNN model "
   ]
  },
  {
   "cell_type": "markdown",
   "id": "40c0fce5",
   "metadata": {},
   "source": [
    "### 1) Preparing the dataset and loading the required libraries "
   ]
  },
  {
   "cell_type": "code",
   "execution_count": 1,
   "id": "98944fb7",
   "metadata": {},
   "outputs": [],
   "source": [
    "# Python ≥3.5 is required\n",
    "import sys\n",
    "assert sys.version_info >= (3, 5)\n",
    "\n",
    "# Is this notebook running on Colab or Kaggle?\n",
    "IS_COLAB = \"google.colab\" in sys.modules\n",
    "IS_KAGGLE = \"kaggle_secrets\" in sys.modules\n",
    "\n",
    "if IS_COLAB:\n",
    "    !pip install -q -U tensorflow-addons\n",
    "    !pip install -q -U transformers\n",
    "\n",
    "# Scikit-Learn ≥0.20 is required\n",
    "import sklearn\n",
    "assert sklearn.__version__ >= \"0.20\"\n",
    "\n",
    "# TensorFlow ≥2.0 is required\n",
    "import tensorflow as tf\n",
    "from tensorflow import keras\n",
    "assert tf.__version__ >= \"2.0\"\n",
    "\n",
    "if not tf.config.list_physical_devices('GPU'):\n",
    "    print(\"No GPU was detected. LSTMs and CNNs can be very slow without a GPU.\")\n",
    "    if IS_COLAB:\n",
    "        print(\"Go to Runtime > Change runtime and select a GPU hardware accelerator.\")\n",
    "    if IS_KAGGLE:\n",
    "        print(\"Go to Settings > Accelerator and select GPU.\")\n",
    "\n",
    "# Common imports\n",
    "import numpy as np\n",
    "import os\n",
    "\n",
    "# to make this notebook's output stable across runs\n",
    "np.random.seed(42)\n",
    "tf.random.set_seed(42)\n",
    "\n",
    "# To plot pretty figures\n",
    "%matplotlib inline\n",
    "import matplotlib as mpl\n",
    "import matplotlib.pyplot as plt\n",
    "mpl.rc('axes', labelsize=14)\n",
    "mpl.rc('xtick', labelsize=12)\n",
    "mpl.rc('ytick', labelsize=12)\n",
    "\n",
    "# Where to save the figures\n",
    "PROJECT_ROOT_DIR = \".\"\n",
    "CHAPTER_ID = \"nlp\"\n",
    "IMAGES_PATH = os.path.join(PROJECT_ROOT_DIR, \"images\", CHAPTER_ID)\n",
    "os.makedirs(IMAGES_PATH, exist_ok=True)\n",
    "\n",
    "def save_fig(fig_id, tight_layout=True, fig_extension=\"png\", resolution=300):\n",
    "    path = os.path.join(IMAGES_PATH, fig_id + \".\" + fig_extension)\n",
    "    print(\"Saving figure\", fig_id)\n",
    "    if tight_layout:\n",
    "        plt.tight_layout()\n",
    "    plt.savefig(path, format=fig_extension, dpi=resolution)"
   ]
  },
  {
   "cell_type": "code",
   "execution_count": 2,
   "id": "e53b2960",
   "metadata": {},
   "outputs": [],
   "source": [
    "#import the required libraries\n",
    "import tensorflow as tf\n",
    "from tensorflow import keras\n",
    "import numpy as np\n",
    "import os\n",
    "import pandas as pd\n",
    "from keras.models import Sequential\n",
    "from tensorflow.keras.layers import LSTM\n",
    "import math\n",
    "import matplotlib.pyplot as plt\n",
    "import keras\n",
    "from keras.layers import Dense\n",
    "from keras.layers import LSTM\n",
    "from keras.layers import Dropout\n",
    "from keras.layers import *\n",
    "from sklearn.preprocessing import MinMaxScaler\n",
    "from sklearn.metrics import mean_squared_error\n",
    "from sklearn.metrics import mean_absolute_error\n",
    "from sklearn.model_selection import train_test_split\n",
    "from keras.callbacks import EarlyStopping\n",
    "\n",
    "#to make this notebook's output stable across runs\n",
    "np.random.seed(42)\n",
    "\n",
    "# To plot pretty figures\n",
    "%matplotlib inline\n",
    "import matplotlib as mpl\n",
    "import matplotlib.pyplot as plt\n",
    "mpl.rc('axes', labelsize=14)\n",
    "mpl.rc('xtick', labelsize=12)\n",
    "mpl.rc('ytick', labelsize=12)"
   ]
  },
  {
   "cell_type": "code",
   "execution_count": 3,
   "id": "0c3f1148",
   "metadata": {},
   "outputs": [
    {
     "data": {
      "text/html": [
       "<div>\n",
       "<style scoped>\n",
       "    .dataframe tbody tr th:only-of-type {\n",
       "        vertical-align: middle;\n",
       "    }\n",
       "\n",
       "    .dataframe tbody tr th {\n",
       "        vertical-align: top;\n",
       "    }\n",
       "\n",
       "    .dataframe thead th {\n",
       "        text-align: right;\n",
       "    }\n",
       "</style>\n",
       "<table border=\"1\" class=\"dataframe\">\n",
       "  <thead>\n",
       "    <tr style=\"text-align: right;\">\n",
       "      <th></th>\n",
       "      <th>Date</th>\n",
       "      <th>Open</th>\n",
       "      <th>High</th>\n",
       "      <th>Low</th>\n",
       "      <th>Close</th>\n",
       "      <th>Adj Close</th>\n",
       "      <th>Volume</th>\n",
       "    </tr>\n",
       "  </thead>\n",
       "  <tbody>\n",
       "    <tr>\n",
       "      <th>0</th>\n",
       "      <td>11/7/2016</td>\n",
       "      <td>59.779999</td>\n",
       "      <td>60.520000</td>\n",
       "      <td>59.779999</td>\n",
       "      <td>60.419998</td>\n",
       "      <td>55.902321</td>\n",
       "      <td>31664800</td>\n",
       "    </tr>\n",
       "    <tr>\n",
       "      <th>1</th>\n",
       "      <td>11/8/2016</td>\n",
       "      <td>60.549999</td>\n",
       "      <td>60.779999</td>\n",
       "      <td>60.150002</td>\n",
       "      <td>60.470001</td>\n",
       "      <td>55.948589</td>\n",
       "      <td>22935400</td>\n",
       "    </tr>\n",
       "    <tr>\n",
       "      <th>2</th>\n",
       "      <td>11/9/2016</td>\n",
       "      <td>60.000000</td>\n",
       "      <td>60.590000</td>\n",
       "      <td>59.200001</td>\n",
       "      <td>60.169998</td>\n",
       "      <td>55.671009</td>\n",
       "      <td>49632500</td>\n",
       "    </tr>\n",
       "    <tr>\n",
       "      <th>3</th>\n",
       "      <td>11/10/2016</td>\n",
       "      <td>60.480000</td>\n",
       "      <td>60.490002</td>\n",
       "      <td>57.630001</td>\n",
       "      <td>58.700001</td>\n",
       "      <td>54.310928</td>\n",
       "      <td>57822400</td>\n",
       "    </tr>\n",
       "    <tr>\n",
       "      <th>4</th>\n",
       "      <td>11/11/2016</td>\n",
       "      <td>58.230000</td>\n",
       "      <td>59.119999</td>\n",
       "      <td>58.009998</td>\n",
       "      <td>59.020000</td>\n",
       "      <td>54.607002</td>\n",
       "      <td>38767800</td>\n",
       "    </tr>\n",
       "  </tbody>\n",
       "</table>\n",
       "</div>"
      ],
      "text/plain": [
       "         Date       Open       High        Low      Close  Adj Close    Volume\n",
       "0   11/7/2016  59.779999  60.520000  59.779999  60.419998  55.902321  31664800\n",
       "1   11/8/2016  60.549999  60.779999  60.150002  60.470001  55.948589  22935400\n",
       "2   11/9/2016  60.000000  60.590000  59.200001  60.169998  55.671009  49632500\n",
       "3  11/10/2016  60.480000  60.490002  57.630001  58.700001  54.310928  57822400\n",
       "4  11/11/2016  58.230000  59.119999  58.009998  59.020000  54.607002  38767800"
      ]
     },
     "execution_count": 3,
     "metadata": {},
     "output_type": "execute_result"
    }
   ],
   "source": [
    "#load the dataset\n",
    "df = pd.read_csv(\"MSFT-1.csv\")\n",
    "df.head()"
   ]
  },
  {
   "cell_type": "code",
   "execution_count": 4,
   "id": "bf621a6a",
   "metadata": {},
   "outputs": [
    {
     "data": {
      "text/html": [
       "<div>\n",
       "<style scoped>\n",
       "    .dataframe tbody tr th:only-of-type {\n",
       "        vertical-align: middle;\n",
       "    }\n",
       "\n",
       "    .dataframe tbody tr th {\n",
       "        vertical-align: top;\n",
       "    }\n",
       "\n",
       "    .dataframe thead th {\n",
       "        text-align: right;\n",
       "    }\n",
       "</style>\n",
       "<table border=\"1\" class=\"dataframe\">\n",
       "  <thead>\n",
       "    <tr style=\"text-align: right;\">\n",
       "      <th></th>\n",
       "      <th>Date</th>\n",
       "      <th>Open</th>\n",
       "      <th>High</th>\n",
       "      <th>Low</th>\n",
       "      <th>Close</th>\n",
       "      <th>Volume</th>\n",
       "    </tr>\n",
       "  </thead>\n",
       "  <tbody>\n",
       "    <tr>\n",
       "      <th>1254</th>\n",
       "      <td>11/1/2021</td>\n",
       "      <td>331.359985</td>\n",
       "      <td>331.489990</td>\n",
       "      <td>326.369995</td>\n",
       "      <td>329.369995</td>\n",
       "      <td>27073200</td>\n",
       "    </tr>\n",
       "    <tr>\n",
       "      <th>1255</th>\n",
       "      <td>11/2/2021</td>\n",
       "      <td>330.309998</td>\n",
       "      <td>333.450012</td>\n",
       "      <td>330.000000</td>\n",
       "      <td>333.130005</td>\n",
       "      <td>26487100</td>\n",
       "    </tr>\n",
       "    <tr>\n",
       "      <th>1256</th>\n",
       "      <td>11/3/2021</td>\n",
       "      <td>333.899994</td>\n",
       "      <td>334.899994</td>\n",
       "      <td>330.649994</td>\n",
       "      <td>334.000000</td>\n",
       "      <td>21500100</td>\n",
       "    </tr>\n",
       "    <tr>\n",
       "      <th>1257</th>\n",
       "      <td>11/4/2021</td>\n",
       "      <td>332.890015</td>\n",
       "      <td>336.540009</td>\n",
       "      <td>329.510010</td>\n",
       "      <td>336.440002</td>\n",
       "      <td>23992200</td>\n",
       "    </tr>\n",
       "    <tr>\n",
       "      <th>1258</th>\n",
       "      <td>11/5/2021</td>\n",
       "      <td>338.510010</td>\n",
       "      <td>338.790009</td>\n",
       "      <td>334.420013</td>\n",
       "      <td>336.059998</td>\n",
       "      <td>22564000</td>\n",
       "    </tr>\n",
       "  </tbody>\n",
       "</table>\n",
       "</div>"
      ],
      "text/plain": [
       "           Date        Open        High         Low       Close    Volume\n",
       "1254  11/1/2021  331.359985  331.489990  326.369995  329.369995  27073200\n",
       "1255  11/2/2021  330.309998  333.450012  330.000000  333.130005  26487100\n",
       "1256  11/3/2021  333.899994  334.899994  330.649994  334.000000  21500100\n",
       "1257  11/4/2021  332.890015  336.540009  329.510010  336.440002  23992200\n",
       "1258  11/5/2021  338.510010  338.790009  334.420013  336.059998  22564000"
      ]
     },
     "execution_count": 4,
     "metadata": {},
     "output_type": "execute_result"
    }
   ],
   "source": [
    "#prepare our dataset by removing the adj close because we do not need it\n",
    "df = df.drop(['Adj Close'], axis=1)\n",
    "df.tail()"
   ]
  },
  {
   "cell_type": "markdown",
   "id": "e65926c3",
   "metadata": {},
   "source": [
    "### 2) Build a RNN model to predict the close prices "
   ]
  },
  {
   "cell_type": "code",
   "execution_count": 5,
   "id": "c7dd95b5",
   "metadata": {},
   "outputs": [
    {
     "name": "stdout",
     "output_type": "stream",
     "text": [
      "Number of rows and columns: (1259, 6)\n"
     ]
    }
   ],
   "source": [
    "print(\"Number of rows and columns:\", df.shape)"
   ]
  },
  {
   "cell_type": "code",
   "execution_count": 6,
   "id": "0cdf6546",
   "metadata": {},
   "outputs": [],
   "source": [
    "training_set = df.iloc[:600, 4:5].values\n",
    "test_set = df.iloc[600:1200, 4:5].values"
   ]
  },
  {
   "cell_type": "code",
   "execution_count": 7,
   "id": "5cc145e3",
   "metadata": {},
   "outputs": [],
   "source": [
    "# Feature Scaling\n",
    "sc = MinMaxScaler(feature_range = (0, 1))\n",
    "training_set_scaled = sc.fit_transform(training_set)\n",
    "# Creating a data structure with 60 time-steps and 1 output\n",
    "X_train = []\n",
    "y_train = []\n",
    "for i in range(60, 600):\n",
    "    X_train.append(training_set_scaled[i-60:i, 0])\n",
    "    y_train.append(training_set_scaled[i, 0])\n",
    "X_train, y_train = np.array(X_train), np.array(y_train)\n",
    "X_train = np.reshape(X_train, (X_train.shape[0], X_train.shape[1], 1))"
   ]
  },
  {
   "cell_type": "code",
   "execution_count": 8,
   "id": "1cd45edf",
   "metadata": {},
   "outputs": [
    {
     "data": {
      "text/plain": [
       "540"
      ]
     },
     "execution_count": 8,
     "metadata": {},
     "output_type": "execute_result"
    }
   ],
   "source": [
    "len(X_train)"
   ]
  },
  {
   "cell_type": "code",
   "execution_count": 9,
   "id": "b3753b64",
   "metadata": {},
   "outputs": [
    {
     "name": "stdout",
     "output_type": "stream",
     "text": [
      "Metal device set to: Apple M1\n"
     ]
    },
    {
     "name": "stderr",
     "output_type": "stream",
     "text": [
      "2022-04-09 07:50:13.984426: I tensorflow/core/common_runtime/pluggable_device/pluggable_device_factory.cc:305] Could not identify NUMA node of platform GPU ID 0, defaulting to 0. Your kernel may not have been built with NUMA support.\n",
      "2022-04-09 07:50:13.984513: I tensorflow/core/common_runtime/pluggable_device/pluggable_device_factory.cc:271] Created TensorFlow device (/job:localhost/replica:0/task:0/device:GPU:0 with 0 MB memory) -> physical PluggableDevice (device: 0, name: METAL, pci bus id: <undefined>)\n",
      "2022-04-09 07:50:14.366162: W tensorflow/core/platform/profile_utils/cpu_utils.cc:128] Failed to get CPU frequency: 0 Hz\n"
     ]
    },
    {
     "name": "stdout",
     "output_type": "stream",
     "text": [
      "Epoch 1/100\n"
     ]
    },
    {
     "name": "stderr",
     "output_type": "stream",
     "text": [
      "2022-04-09 07:50:15.806665: I tensorflow/core/grappler/optimizers/custom_graph_optimizer_registry.cc:112] Plugin optimizer for device_type GPU is enabled.\n",
      "2022-04-09 07:50:16.256642: I tensorflow/core/grappler/optimizers/custom_graph_optimizer_registry.cc:112] Plugin optimizer for device_type GPU is enabled.\n",
      "2022-04-09 07:50:16.352796: I tensorflow/core/grappler/optimizers/custom_graph_optimizer_registry.cc:112] Plugin optimizer for device_type GPU is enabled.\n",
      "2022-04-09 07:50:16.444158: I tensorflow/core/grappler/optimizers/custom_graph_optimizer_registry.cc:112] Plugin optimizer for device_type GPU is enabled.\n",
      "2022-04-09 07:50:16.532807: I tensorflow/core/grappler/optimizers/custom_graph_optimizer_registry.cc:112] Plugin optimizer for device_type GPU is enabled.\n",
      "2022-04-09 07:50:16.621950: I tensorflow/core/grappler/optimizers/custom_graph_optimizer_registry.cc:112] Plugin optimizer for device_type GPU is enabled.\n",
      "2022-04-09 07:50:16.736701: I tensorflow/core/grappler/optimizers/custom_graph_optimizer_registry.cc:112] Plugin optimizer for device_type GPU is enabled.\n",
      "2022-04-09 07:50:16.916790: I tensorflow/core/grappler/optimizers/custom_graph_optimizer_registry.cc:112] Plugin optimizer for device_type GPU is enabled.\n",
      "2022-04-09 07:50:17.080346: I tensorflow/core/grappler/optimizers/custom_graph_optimizer_registry.cc:112] Plugin optimizer for device_type GPU is enabled.\n",
      "2022-04-09 07:50:17.240480: I tensorflow/core/grappler/optimizers/custom_graph_optimizer_registry.cc:112] Plugin optimizer for device_type GPU is enabled.\n"
     ]
    },
    {
     "name": "stdout",
     "output_type": "stream",
     "text": [
      " 1/17 [>.............................] - ETA: 50s - loss: 0.3317"
     ]
    },
    {
     "name": "stderr",
     "output_type": "stream",
     "text": [
      "2022-04-09 07:50:17.399723: I tensorflow/core/grappler/optimizers/custom_graph_optimizer_registry.cc:112] Plugin optimizer for device_type GPU is enabled.\n"
     ]
    },
    {
     "name": "stdout",
     "output_type": "stream",
     "text": [
      "17/17 [==============================] - 5s 134ms/step - loss: 0.1419\n",
      "Epoch 2/100\n",
      "17/17 [==============================] - 1s 84ms/step - loss: 0.0426\n",
      "Epoch 3/100\n",
      "17/17 [==============================] - 1s 83ms/step - loss: 0.0287\n",
      "Epoch 4/100\n",
      "17/17 [==============================] - 1s 83ms/step - loss: 0.0712\n",
      "Epoch 5/100\n",
      "17/17 [==============================] - 1s 86ms/step - loss: 0.0910\n",
      "Epoch 6/100\n",
      "17/17 [==============================] - 1s 84ms/step - loss: 0.1045\n",
      "Epoch 7/100\n",
      "17/17 [==============================] - 1s 87ms/step - loss: 0.0765\n",
      "Epoch 8/100\n",
      "17/17 [==============================] - 1s 86ms/step - loss: 0.0766\n",
      "Epoch 9/100\n",
      "17/17 [==============================] - 1s 87ms/step - loss: 0.0767\n",
      "Epoch 10/100\n",
      "17/17 [==============================] - 1s 84ms/step - loss: 0.0746\n",
      "Epoch 11/100\n",
      "17/17 [==============================] - 1s 86ms/step - loss: 0.0727\n",
      "Epoch 12/100\n",
      "17/17 [==============================] - 1s 84ms/step - loss: 0.0690\n",
      "Epoch 13/100\n",
      "17/17 [==============================] - 1s 83ms/step - loss: 0.0675\n",
      "Epoch 14/100\n",
      "17/17 [==============================] - 1s 83ms/step - loss: 0.0668\n",
      "Epoch 15/100\n",
      "17/17 [==============================] - 1s 82ms/step - loss: 0.0607\n",
      "Epoch 16/100\n",
      "17/17 [==============================] - 1s 82ms/step - loss: 0.0607\n",
      "Epoch 17/100\n",
      "17/17 [==============================] - 1s 83ms/step - loss: 0.0608\n",
      "Epoch 18/100\n",
      "17/17 [==============================] - 1s 83ms/step - loss: 0.0540\n",
      "Epoch 19/100\n",
      "17/17 [==============================] - 1s 83ms/step - loss: 0.0549\n",
      "Epoch 20/100\n",
      "17/17 [==============================] - 1s 86ms/step - loss: 0.0508\n",
      "Epoch 21/100\n",
      "17/17 [==============================] - 1s 85ms/step - loss: 0.0472\n",
      "Epoch 22/100\n",
      "17/17 [==============================] - 1s 83ms/step - loss: 0.0439\n",
      "Epoch 23/100\n",
      "17/17 [==============================] - 2s 89ms/step - loss: 0.0503\n",
      "Epoch 24/100\n",
      "17/17 [==============================] - 2s 91ms/step - loss: 0.0429\n",
      "Epoch 25/100\n",
      "17/17 [==============================] - 2s 89ms/step - loss: 0.0417\n",
      "Epoch 26/100\n",
      "17/17 [==============================] - 2s 93ms/step - loss: 0.0392\n",
      "Epoch 27/100\n",
      "17/17 [==============================] - 2s 101ms/step - loss: 0.0384\n",
      "Epoch 28/100\n",
      "17/17 [==============================] - 1s 86ms/step - loss: 0.0319\n",
      "Epoch 29/100\n",
      "17/17 [==============================] - 1s 85ms/step - loss: 0.0315\n",
      "Epoch 30/100\n",
      "17/17 [==============================] - 1s 86ms/step - loss: 0.0289\n",
      "Epoch 31/100\n",
      "17/17 [==============================] - 1s 87ms/step - loss: 0.0316\n",
      "Epoch 32/100\n",
      "17/17 [==============================] - 1s 86ms/step - loss: 0.0361\n",
      "Epoch 33/100\n",
      "17/17 [==============================] - 1s 83ms/step - loss: 0.0295\n",
      "Epoch 34/100\n",
      "17/17 [==============================] - 1s 84ms/step - loss: 0.0282\n",
      "Epoch 35/100\n",
      "17/17 [==============================] - 1s 83ms/step - loss: 0.0255\n",
      "Epoch 36/100\n",
      "17/17 [==============================] - 1s 84ms/step - loss: 0.0234\n",
      "Epoch 37/100\n",
      "17/17 [==============================] - 1s 85ms/step - loss: 0.0242\n",
      "Epoch 38/100\n",
      "17/17 [==============================] - 1s 83ms/step - loss: 0.0268\n",
      "Epoch 39/100\n",
      "17/17 [==============================] - 1s 85ms/step - loss: 0.0242\n",
      "Epoch 40/100\n",
      "17/17 [==============================] - 1s 87ms/step - loss: 0.0239\n",
      "Epoch 41/100\n",
      "17/17 [==============================] - 1s 84ms/step - loss: 0.0194\n",
      "Epoch 42/100\n",
      "17/17 [==============================] - 1s 84ms/step - loss: 0.0175\n",
      "Epoch 43/100\n",
      "17/17 [==============================] - 1s 85ms/step - loss: 0.0175\n",
      "Epoch 44/100\n",
      "17/17 [==============================] - 1s 85ms/step - loss: 0.0164\n",
      "Epoch 45/100\n",
      "17/17 [==============================] - 2s 91ms/step - loss: 0.0167\n",
      "Epoch 46/100\n",
      "17/17 [==============================] - 1s 86ms/step - loss: 0.0145\n",
      "Epoch 47/100\n",
      "17/17 [==============================] - 1s 84ms/step - loss: 0.0150\n",
      "Epoch 48/100\n",
      "17/17 [==============================] - 1s 85ms/step - loss: 0.0196\n",
      "Epoch 49/100\n",
      "17/17 [==============================] - 1s 83ms/step - loss: 0.0171\n",
      "Epoch 50/100\n",
      "17/17 [==============================] - 1s 84ms/step - loss: 0.0156\n",
      "Epoch 51/100\n",
      "17/17 [==============================] - 1s 84ms/step - loss: 0.0130\n",
      "Epoch 52/100\n",
      "17/17 [==============================] - 1s 83ms/step - loss: 0.0136\n",
      "Epoch 53/100\n",
      "17/17 [==============================] - 1s 88ms/step - loss: 0.0134\n",
      "Epoch 54/100\n",
      "17/17 [==============================] - 1s 86ms/step - loss: 0.0137\n",
      "Epoch 55/100\n",
      "17/17 [==============================] - 2s 94ms/step - loss: 0.0150\n",
      "Epoch 56/100\n",
      "17/17 [==============================] - 1s 85ms/step - loss: 0.0126\n",
      "Epoch 57/100\n",
      "17/17 [==============================] - 1s 85ms/step - loss: 0.0111\n",
      "Epoch 58/100\n",
      "17/17 [==============================] - 1s 84ms/step - loss: 0.0116\n",
      "Epoch 59/100\n",
      "17/17 [==============================] - 1s 84ms/step - loss: 0.0123\n",
      "Epoch 60/100\n",
      "17/17 [==============================] - 1s 86ms/step - loss: 0.0127\n",
      "Epoch 61/100\n",
      "17/17 [==============================] - 1s 85ms/step - loss: 0.0126\n",
      "Epoch 62/100\n",
      "17/17 [==============================] - 1s 84ms/step - loss: 0.0111\n",
      "Epoch 63/100\n",
      "17/17 [==============================] - 1s 86ms/step - loss: 0.0106\n",
      "Epoch 64/100\n",
      "17/17 [==============================] - 1s 85ms/step - loss: 0.0130\n",
      "Epoch 65/100\n",
      "17/17 [==============================] - 1s 85ms/step - loss: 0.0123\n",
      "Epoch 66/100\n",
      "17/17 [==============================] - 1s 85ms/step - loss: 0.0109\n",
      "Epoch 67/100\n",
      "17/17 [==============================] - 1s 86ms/step - loss: 0.0115\n",
      "Epoch 68/100\n",
      "17/17 [==============================] - 1s 86ms/step - loss: 0.0121\n",
      "Epoch 69/100\n",
      "17/17 [==============================] - 1s 85ms/step - loss: 0.0114\n",
      "Epoch 70/100\n",
      "17/17 [==============================] - 1s 85ms/step - loss: 0.0108\n",
      "Epoch 71/100\n",
      "17/17 [==============================] - 1s 86ms/step - loss: 0.0109\n",
      "Epoch 72/100\n",
      "17/17 [==============================] - 1s 86ms/step - loss: 0.0101\n",
      "Epoch 73/100\n",
      "17/17 [==============================] - 1s 85ms/step - loss: 0.0105\n",
      "Epoch 74/100\n",
      "17/17 [==============================] - 1s 86ms/step - loss: 0.0108\n",
      "Epoch 75/100\n",
      "17/17 [==============================] - 1s 86ms/step - loss: 0.0097\n",
      "Epoch 76/100\n",
      "17/17 [==============================] - 1s 85ms/step - loss: 0.0101\n",
      "Epoch 77/100\n",
      "17/17 [==============================] - 1s 86ms/step - loss: 0.0100\n",
      "Epoch 78/100\n",
      "17/17 [==============================] - 1s 87ms/step - loss: 0.0114\n",
      "Epoch 79/100\n",
      "17/17 [==============================] - 1s 85ms/step - loss: 0.0096\n",
      "Epoch 80/100\n",
      "17/17 [==============================] - 1s 87ms/step - loss: 0.0100\n",
      "Epoch 81/100\n",
      "17/17 [==============================] - 1s 86ms/step - loss: 0.0107\n",
      "Epoch 82/100\n",
      "17/17 [==============================] - 1s 86ms/step - loss: 0.0108\n",
      "Epoch 83/100\n",
      "17/17 [==============================] - 1s 87ms/step - loss: 0.0113\n",
      "Epoch 84/100\n",
      "17/17 [==============================] - 1s 86ms/step - loss: 0.0104\n",
      "Epoch 85/100\n",
      "17/17 [==============================] - 1s 87ms/step - loss: 0.0094\n",
      "Epoch 86/100\n",
      "17/17 [==============================] - 1s 86ms/step - loss: 0.0098\n",
      "Epoch 87/100\n",
      "17/17 [==============================] - 1s 86ms/step - loss: 0.0095\n",
      "Epoch 88/100\n",
      "17/17 [==============================] - 1s 86ms/step - loss: 0.0113\n",
      "Epoch 89/100\n",
      "17/17 [==============================] - 1s 87ms/step - loss: 0.0099\n",
      "Epoch 90/100\n",
      "17/17 [==============================] - 1s 87ms/step - loss: 0.0097\n",
      "Epoch 91/100\n",
      "17/17 [==============================] - 1s 86ms/step - loss: 0.0100\n",
      "Epoch 92/100\n",
      "17/17 [==============================] - 1s 87ms/step - loss: 0.0103\n",
      "Epoch 93/100\n",
      "17/17 [==============================] - 1s 86ms/step - loss: 0.0101\n",
      "Epoch 94/100\n",
      "17/17 [==============================] - 2s 91ms/step - loss: 0.0098\n",
      "Epoch 95/100\n",
      "17/17 [==============================] - 1s 86ms/step - loss: 0.0106\n",
      "Epoch 96/100\n",
      "17/17 [==============================] - 2s 89ms/step - loss: 0.0099\n",
      "Epoch 97/100\n",
      "17/17 [==============================] - 2s 89ms/step - loss: 0.0103\n",
      "Epoch 98/100\n",
      "17/17 [==============================] - 2s 90ms/step - loss: 0.0095\n",
      "Epoch 99/100\n",
      "17/17 [==============================] - 2s 90ms/step - loss: 0.0095\n",
      "Epoch 100/100\n",
      "17/17 [==============================] - 1s 88ms/step - loss: 0.0100\n"
     ]
    },
    {
     "data": {
      "text/plain": [
       "<keras.callbacks.History at 0x28aefa340>"
      ]
     },
     "execution_count": 9,
     "metadata": {},
     "output_type": "execute_result"
    }
   ],
   "source": [
    "#building RNN model to predict the close prices \n",
    "model = Sequential()\n",
    "model.add(LSTM(units = 110, return_sequences = True, input_shape = (X_train.shape[1], 1)))\n",
    "model.add(Dropout(0.2))\n",
    "model.add(LSTM(units = 110, return_sequences = True))\n",
    "model.add(Dropout(0.2))\n",
    "model.add(LSTM(units = 110, return_sequences = True))\n",
    "model.add(Dropout(0.2))\n",
    "model.add(LSTM(units = 110, return_sequences = True))\n",
    "model.add(Dropout(0.2))\n",
    "model.add(LSTM(units = 110))\n",
    "model.add(Dropout(0.2))\n",
    "model.add(Dense(units = 1))\n",
    "\n",
    "# Compiling the RNN\n",
    "model.compile(optimizer = 'adam', loss = 'mean_squared_error')\n",
    "\n",
    "# Fitting the RNN to the Training set\n",
    "model.fit(X_train, y_train, epochs = 100, batch_size = 32)"
   ]
  },
  {
   "cell_type": "code",
   "execution_count": 10,
   "id": "67693043",
   "metadata": {},
   "outputs": [
    {
     "name": "stdout",
     "output_type": "stream",
     "text": [
      "(540, 60, 1)\n"
     ]
    }
   ],
   "source": [
    "# test the model \n",
    "dataset_train = df.iloc[:600, 4:5]\n",
    "dataset_test = df.iloc[600:1139, 4:5]\n",
    "dataset_total = pd.concat((dataset_train, dataset_test), axis = 0)\n",
    "inputs = dataset_total[len(dataset_total) - len(dataset_test) - 60:].values\n",
    "inputs = inputs.reshape(-1,1)\n",
    "inputs = sc.transform(inputs)\n",
    "X_test = []\n",
    "for i in range(60, 600):\n",
    "    X_test.append(inputs[i-60:i, 0])\n",
    "X_test = np.array(X_test)\n",
    "X_test = np.reshape(X_test, (X_test.shape[0], X_test.shape[1], 1))\n",
    "print(X_test.shape)"
   ]
  },
  {
   "cell_type": "code",
   "execution_count": 11,
   "id": "4e52aecd",
   "metadata": {},
   "outputs": [
    {
     "name": "stderr",
     "output_type": "stream",
     "text": [
      "2022-04-09 07:52:44.781407: I tensorflow/core/grappler/optimizers/custom_graph_optimizer_registry.cc:112] Plugin optimizer for device_type GPU is enabled.\n",
      "2022-04-09 07:52:44.927363: I tensorflow/core/grappler/optimizers/custom_graph_optimizer_registry.cc:112] Plugin optimizer for device_type GPU is enabled.\n",
      "2022-04-09 07:52:45.009707: I tensorflow/core/grappler/optimizers/custom_graph_optimizer_registry.cc:112] Plugin optimizer for device_type GPU is enabled.\n",
      "2022-04-09 07:52:45.096444: I tensorflow/core/grappler/optimizers/custom_graph_optimizer_registry.cc:112] Plugin optimizer for device_type GPU is enabled.\n",
      "2022-04-09 07:52:45.181571: I tensorflow/core/grappler/optimizers/custom_graph_optimizer_registry.cc:112] Plugin optimizer for device_type GPU is enabled.\n",
      "2022-04-09 07:52:45.270099: I tensorflow/core/grappler/optimizers/custom_graph_optimizer_registry.cc:112] Plugin optimizer for device_type GPU is enabled.\n"
     ]
    }
   ],
   "source": [
    "predicted_stock_price = model.predict(X_test)\n",
    "predicted_stock_price = sc.inverse_transform(predicted_stock_price)"
   ]
  },
  {
   "cell_type": "code",
   "execution_count": 12,
   "id": "553b3087",
   "metadata": {},
   "outputs": [
    {
     "data": {
      "image/png": "[encoded data removed]",
      "text/plain": [
       "<Figure size 432x288 with 1 Axes>"
      ]
     },
     "metadata": {
      "needs_background": "light"
     },
     "output_type": "display_data"
    }
   ],
   "source": [
    "# Visualising the results\n",
    "plt.plot(df.loc[600:1138, \"Date\"],dataset_test.values, color = \"red\", label = \"Real MSFT Stock Price\")\n",
    "plt.plot(df.loc[600:1139, \"Date\"],predicted_stock_price, color = \"blue\", label = \"Predicted MSFT Stock Price\")\n",
    "plt.xticks(np.arange(0,459,50))\n",
    "plt.title('MSFT Stock Price Prediction')\n",
    "plt.xlabel('Time')\n",
    "plt.ylabel('MSFT Stock Price')\n",
    "plt.legend()\n",
    "plt.show()"
   ]
  },
  {
   "cell_type": "code",
   "execution_count": 13,
   "id": "948a8e61",
   "metadata": {},
   "outputs": [
    {
     "name": "stdout",
     "output_type": "stream",
     "text": [
      "(40, 60, 1)\n"
     ]
    }
   ],
   "source": [
    "# predict the next day close price\n",
    "dataset_pre = df.iloc[1159:, 4:5]\n",
    "inputs = dataset_pre.values\n",
    "inputs = inputs.reshape(-1,1)\n",
    "inputs = sc.transform(inputs)\n",
    "X_test = []\n",
    "for i in range(60, 100):\n",
    "    X_test.append(inputs[i-60:i, 0])\n",
    "X_test = np.array(X_test)\n",
    "X_test = np.reshape(X_test, (X_test.shape[0], X_test.shape[1], 1))\n",
    "print(X_test.shape)"
   ]
  },
  {
   "cell_type": "code",
   "execution_count": 14,
   "id": "925dd887",
   "metadata": {},
   "outputs": [],
   "source": [
    "predicted_stock_price = model.predict(X_test)"
   ]
  },
  {
   "cell_type": "code",
   "execution_count": 15,
   "id": "baf06877",
   "metadata": {},
   "outputs": [],
   "source": [
    "predicted_stock_price = sc.inverse_transform(predicted_stock_price)"
   ]
  },
  {
   "cell_type": "code",
   "execution_count": 16,
   "id": "f3cb0107",
   "metadata": {},
   "outputs": [
    {
     "data": {
      "text/plain": [
       "array([268.61343], dtype=float32)"
      ]
     },
     "execution_count": 16,
     "metadata": {},
     "output_type": "execute_result"
    }
   ],
   "source": [
    "# the next day close price \n",
    "predicted_stock_price[-1]"
   ]
  },
  {
   "cell_type": "markdown",
   "id": "0ad71409",
   "metadata": {},
   "source": [
    "### In the next steps we will do the same 10 times to predict the next 10 days."
   ]
  },
  {
   "cell_type": "code",
   "execution_count": 17,
   "id": "56485118",
   "metadata": {},
   "outputs": [
    {
     "name": "stdout",
     "output_type": "stream",
     "text": [
      "(40, 60, 1)\n"
     ]
    }
   ],
   "source": [
    "#find the next day close price \n",
    "dataset_train = df.iloc[:600, 4:5]\n",
    "dataset_pre = pd.DataFrame (predicted_stock_price, columns = ['Close'])\n",
    "dataset_total = pd.concat((dataset_train, dataset_pre), axis = 0)\n",
    "inputs = dataset_total[len(dataset_total) - len(dataset_pre) - 60:].values\n",
    "inputs = inputs.reshape(-1,1)\n",
    "inputs = sc.transform(inputs)\n",
    "X_test = []\n",
    "for i in range(60, 100):\n",
    "    X_test.append(inputs[i-60:i, 0])\n",
    "X_test = np.array(X_test)\n",
    "X_test = np.reshape(X_test, (X_test.shape[0], X_test.shape[1], 1))\n",
    "print(X_test.shape)"
   ]
  },
  {
   "cell_type": "code",
   "execution_count": 18,
   "id": "8db74fa0",
   "metadata": {},
   "outputs": [],
   "source": [
    "predicted_stock_price = model.predict(X_test)\n",
    "predicted_stock_price = sc.inverse_transform(predicted_stock_price)"
   ]
  },
  {
   "cell_type": "code",
   "execution_count": 19,
   "id": "ac57d9de",
   "metadata": {},
   "outputs": [
    {
     "data": {
      "text/plain": [
       "array([268.613], dtype=float32)"
      ]
     },
     "execution_count": 19,
     "metadata": {},
     "output_type": "execute_result"
    }
   ],
   "source": [
    "#the next day close price \n",
    "predicted_stock_price[-1]"
   ]
  },
  {
   "cell_type": "code",
   "execution_count": 20,
   "id": "40bed764",
   "metadata": {},
   "outputs": [
    {
     "name": "stdout",
     "output_type": "stream",
     "text": [
      "(40, 60, 1)\n"
     ]
    }
   ],
   "source": [
    "#find the next day close price \n",
    "dataset_train = df.iloc[:600, 4:5]\n",
    "dataset_pre = pd.DataFrame (predicted_stock_price, columns = ['Close'])\n",
    "dataset_total = pd.concat((dataset_train, dataset_pre), axis = 0)\n",
    "inputs = dataset_total[len(dataset_total) - len(dataset_pre) - 60:].values\n",
    "inputs = inputs.reshape(-1,1)\n",
    "inputs = sc.transform(inputs)\n",
    "X_test = []\n",
    "for i in range(60, 100):\n",
    "    X_test.append(inputs[i-60:i, 0])\n",
    "X_test = np.array(X_test)\n",
    "X_test = np.reshape(X_test, (X_test.shape[0], X_test.shape[1], 1))\n",
    "print(X_test.shape)"
   ]
  },
  {
   "cell_type": "code",
   "execution_count": 21,
   "id": "18b5054c",
   "metadata": {},
   "outputs": [],
   "source": [
    "predicted_stock_price = model.predict(X_test)\n",
    "predicted_stock_price = sc.inverse_transform(predicted_stock_price)"
   ]
  },
  {
   "cell_type": "code",
   "execution_count": 22,
   "id": "667304b2",
   "metadata": {},
   "outputs": [
    {
     "data": {
      "text/plain": [
       "array([268.6129], dtype=float32)"
      ]
     },
     "execution_count": 22,
     "metadata": {},
     "output_type": "execute_result"
    }
   ],
   "source": [
    "#the next day close price \n",
    "predicted_stock_price[-1]"
   ]
  },
  {
   "cell_type": "code",
   "execution_count": 23,
   "id": "2418a419",
   "metadata": {},
   "outputs": [
    {
     "name": "stdout",
     "output_type": "stream",
     "text": [
      "(40, 60, 1)\n"
     ]
    }
   ],
   "source": [
    "#find the next day close price \n",
    "dataset_train = df.iloc[:600, 4:5]\n",
    "dataset_pre = pd.DataFrame (predicted_stock_price, columns = ['Close'])\n",
    "dataset_total = pd.concat((dataset_train, dataset_pre), axis = 0)\n",
    "inputs = dataset_total[len(dataset_total) - len(dataset_pre) - 60:].values\n",
    "inputs = inputs.reshape(-1,1)\n",
    "inputs = sc.transform(inputs)\n",
    "X_test = []\n",
    "for i in range(60, 100):\n",
    "    X_test.append(inputs[i-60:i, 0])\n",
    "X_test = np.array(X_test)\n",
    "X_test = np.reshape(X_test, (X_test.shape[0], X_test.shape[1], 1))\n",
    "print(X_test.shape)"
   ]
  },
  {
   "cell_type": "code",
   "execution_count": 24,
   "id": "ddec745d",
   "metadata": {},
   "outputs": [],
   "source": [
    "predicted_stock_price = model.predict(X_test)\n",
    "predicted_stock_price = sc.inverse_transform(predicted_stock_price)"
   ]
  },
  {
   "cell_type": "code",
   "execution_count": 25,
   "id": "80ade859",
   "metadata": {},
   "outputs": [
    {
     "name": "stdout",
     "output_type": "stream",
     "text": [
      "(40, 60, 1)\n"
     ]
    }
   ],
   "source": [
    "#find the next day close price \n",
    "dataset_train = df.iloc[:600, 4:5]\n",
    "dataset_pre = pd.DataFrame (predicted_stock_price, columns = ['Close'])\n",
    "dataset_total = pd.concat((dataset_train, dataset_pre), axis = 0)\n",
    "inputs = dataset_total[len(dataset_total) - len(dataset_pre) - 60:].values\n",
    "inputs = inputs.reshape(-1,1)\n",
    "inputs = sc.transform(inputs)\n",
    "X_test = []\n",
    "for i in range(60, 100):\n",
    "    X_test.append(inputs[i-60:i, 0])\n",
    "X_test = np.array(X_test)\n",
    "X_test = np.reshape(X_test, (X_test.shape[0], X_test.shape[1], 1))\n",
    "print(X_test.shape)"
   ]
  },
  {
   "cell_type": "code",
   "execution_count": 26,
   "id": "c24e6382",
   "metadata": {},
   "outputs": [],
   "source": [
    "predicted_stock_price = model.predict(X_test)\n",
    "predicted_stock_price = sc.inverse_transform(predicted_stock_price)"
   ]
  },
  {
   "cell_type": "code",
   "execution_count": 27,
   "id": "494593dd",
   "metadata": {},
   "outputs": [
    {
     "name": "stdout",
     "output_type": "stream",
     "text": [
      "(40, 60, 1)\n"
     ]
    }
   ],
   "source": [
    "#find the next day close price \n",
    "dataset_train = df.iloc[:600, 4:5]\n",
    "dataset_pre = pd.DataFrame (predicted_stock_price, columns = ['Close'])\n",
    "dataset_total = pd.concat((dataset_train, dataset_pre), axis = 0)\n",
    "inputs = dataset_total[len(dataset_total) - len(dataset_pre) - 60:].values\n",
    "inputs = inputs.reshape(-1,1)\n",
    "inputs = sc.transform(inputs)\n",
    "X_test = []\n",
    "for i in range(60, 100):\n",
    "    X_test.append(inputs[i-60:i, 0])\n",
    "X_test = np.array(X_test)\n",
    "X_test = np.reshape(X_test, (X_test.shape[0], X_test.shape[1], 1))\n",
    "print(X_test.shape)"
   ]
  },
  {
   "cell_type": "code",
   "execution_count": 28,
   "id": "8e4026b9",
   "metadata": {},
   "outputs": [],
   "source": [
    "predicted_stock_price = model.predict(X_test)\n",
    "predicted_stock_price = sc.inverse_transform(predicted_stock_price)"
   ]
  },
  {
   "cell_type": "code",
   "execution_count": 29,
   "id": "9624588d",
   "metadata": {},
   "outputs": [
    {
     "name": "stdout",
     "output_type": "stream",
     "text": [
      "(40, 60, 1)\n"
     ]
    }
   ],
   "source": [
    "#find the next day close price \n",
    "dataset_train = df.iloc[:600, 4:5]\n",
    "dataset_pre = pd.DataFrame (predicted_stock_price, columns = ['Close'])\n",
    "dataset_total = pd.concat((dataset_train, dataset_pre), axis = 0)\n",
    "inputs = dataset_total[len(dataset_total) - len(dataset_pre) - 60:].values\n",
    "inputs = inputs.reshape(-1,1)\n",
    "inputs = sc.transform(inputs)\n",
    "X_test = []\n",
    "for i in range(60, 100):\n",
    "    X_test.append(inputs[i-60:i, 0])\n",
    "X_test = np.array(X_test)\n",
    "X_test = np.reshape(X_test, (X_test.shape[0], X_test.shape[1], 1))\n",
    "print(X_test.shape)"
   ]
  },
  {
   "cell_type": "code",
   "execution_count": 30,
   "id": "9cb2dab6",
   "metadata": {},
   "outputs": [],
   "source": [
    "predicted_stock_price = model.predict(X_test)\n",
    "predicted_stock_price = sc.inverse_transform(predicted_stock_price)"
   ]
  },
  {
   "cell_type": "code",
   "execution_count": 31,
   "id": "3a042564",
   "metadata": {},
   "outputs": [
    {
     "name": "stdout",
     "output_type": "stream",
     "text": [
      "(40, 60, 1)\n"
     ]
    }
   ],
   "source": [
    "#find the next day close price \n",
    "dataset_train = df.iloc[:600, 4:5]\n",
    "dataset_pre = pd.DataFrame (predicted_stock_price, columns = ['Close'])\n",
    "dataset_total = pd.concat((dataset_train, dataset_pre), axis = 0)\n",
    "inputs = dataset_total[len(dataset_total) - len(dataset_pre) - 60:].values\n",
    "inputs = inputs.reshape(-1,1)\n",
    "inputs = sc.transform(inputs)\n",
    "X_test = []\n",
    "for i in range(60, 100):\n",
    "    X_test.append(inputs[i-60:i, 0])\n",
    "X_test = np.array(X_test)\n",
    "X_test = np.reshape(X_test, (X_test.shape[0], X_test.shape[1], 1))\n",
    "print(X_test.shape)"
   ]
  },
  {
   "cell_type": "code",
   "execution_count": 32,
   "id": "958bf2aa",
   "metadata": {},
   "outputs": [],
   "source": [
    "predicted_stock_price = model.predict(X_test)\n",
    "predicted_stock_price = sc.inverse_transform(predicted_stock_price)"
   ]
  },
  {
   "cell_type": "code",
   "execution_count": 33,
   "id": "fd019d86",
   "metadata": {},
   "outputs": [
    {
     "name": "stdout",
     "output_type": "stream",
     "text": [
      "(40, 60, 1)\n"
     ]
    }
   ],
   "source": [
    "#find the next day close price \n",
    "dataset_train = df.iloc[:600, 4:5]\n",
    "dataset_pre = pd.DataFrame (predicted_stock_price, columns = ['Close'])\n",
    "dataset_total = pd.concat((dataset_train, dataset_pre), axis = 0)\n",
    "inputs = dataset_total[len(dataset_total) - len(dataset_pre) - 60:].values\n",
    "inputs = inputs.reshape(-1,1)\n",
    "inputs = sc.transform(inputs)\n",
    "X_test = []\n",
    "for i in range(60, 100):\n",
    "    X_test.append(inputs[i-60:i, 0])\n",
    "X_test = np.array(X_test)\n",
    "X_test = np.reshape(X_test, (X_test.shape[0], X_test.shape[1], 1))\n",
    "print(X_test.shape)"
   ]
  },
  {
   "cell_type": "code",
   "execution_count": 34,
   "id": "87cbb2b9",
   "metadata": {},
   "outputs": [],
   "source": [
    "predicted_stock_price = model.predict(X_test)\n",
    "predicted_stock_price = sc.inverse_transform(predicted_stock_price)"
   ]
  },
  {
   "cell_type": "code",
   "execution_count": 35,
   "id": "5592e02e",
   "metadata": {},
   "outputs": [
    {
     "name": "stdout",
     "output_type": "stream",
     "text": [
      "(40, 60, 1)\n"
     ]
    }
   ],
   "source": [
    "#find the next day close price \n",
    "dataset_train = df.iloc[:600, 4:5]\n",
    "dataset_pre = pd.DataFrame (predicted_stock_price, columns = ['Close'])\n",
    "dataset_total = pd.concat((dataset_train, dataset_pre), axis = 0)\n",
    "inputs = dataset_total[len(dataset_total) - len(dataset_pre) - 60:].values\n",
    "inputs = inputs.reshape(-1,1)\n",
    "inputs = sc.transform(inputs)\n",
    "X_test = []\n",
    "for i in range(60, 100):\n",
    "    X_test.append(inputs[i-60:i, 0])\n",
    "X_test = np.array(X_test)\n",
    "X_test = np.reshape(X_test, (X_test.shape[0], X_test.shape[1], 1))\n",
    "print(X_test.shape)"
   ]
  },
  {
   "cell_type": "code",
   "execution_count": 36,
   "id": "22bd021d",
   "metadata": {},
   "outputs": [],
   "source": [
    "predicted_stock_price = model.predict(X_test)\n",
    "predicted_stock_price = sc.inverse_transform(predicted_stock_price)"
   ]
  },
  {
   "cell_type": "code",
   "execution_count": 37,
   "id": "ff835ec4",
   "metadata": {},
   "outputs": [
    {
     "name": "stdout",
     "output_type": "stream",
     "text": [
      "(40, 60, 1)\n"
     ]
    }
   ],
   "source": [
    "#find the next day close price \n",
    "dataset_train = df.iloc[:600, 4:5]\n",
    "dataset_pre = pd.DataFrame (predicted_stock_price, columns = ['Close'])\n",
    "dataset_total = pd.concat((dataset_train, dataset_pre), axis = 0)\n",
    "inputs = dataset_total[len(dataset_total) - len(dataset_pre) - 60:].values\n",
    "inputs = inputs.reshape(-1,1)\n",
    "inputs = sc.transform(inputs)\n",
    "X_test = []\n",
    "for i in range(60, 100):\n",
    "    X_test.append(inputs[i-60:i, 0])\n",
    "X_test = np.array(X_test)\n",
    "X_test = np.reshape(X_test, (X_test.shape[0], X_test.shape[1], 1))\n",
    "print(X_test.shape)"
   ]
  },
  {
   "cell_type": "code",
   "execution_count": 38,
   "id": "0fb20c76",
   "metadata": {},
   "outputs": [],
   "source": [
    "predicted_stock_price = model.predict(X_test)\n",
    "predicted_stock_price = sc.inverse_transform(predicted_stock_price)"
   ]
  },
  {
   "cell_type": "code",
   "execution_count": 39,
   "id": "8eae8d96",
   "metadata": {},
   "outputs": [
    {
     "data": {
      "text/html": [
       "<div>\n",
       "<style scoped>\n",
       "    .dataframe tbody tr th:only-of-type {\n",
       "        vertical-align: middle;\n",
       "    }\n",
       "\n",
       "    .dataframe tbody tr th {\n",
       "        vertical-align: top;\n",
       "    }\n",
       "\n",
       "    .dataframe thead th {\n",
       "        text-align: right;\n",
       "    }\n",
       "</style>\n",
       "<table border=\"1\" class=\"dataframe\">\n",
       "  <thead>\n",
       "    <tr style=\"text-align: right;\">\n",
       "      <th></th>\n",
       "      <th>Close</th>\n",
       "    </tr>\n",
       "  </thead>\n",
       "  <tbody>\n",
       "    <tr>\n",
       "      <th>0</th>\n",
       "      <td>107.880081</td>\n",
       "    </tr>\n",
       "    <tr>\n",
       "      <th>1</th>\n",
       "      <td>108.282982</td>\n",
       "    </tr>\n",
       "    <tr>\n",
       "      <th>2</th>\n",
       "      <td>109.003876</td>\n",
       "    </tr>\n",
       "    <tr>\n",
       "      <th>3</th>\n",
       "      <td>268.611450</td>\n",
       "    </tr>\n",
       "    <tr>\n",
       "      <th>4</th>\n",
       "      <td>268.611664</td>\n",
       "    </tr>\n",
       "    <tr>\n",
       "      <th>5</th>\n",
       "      <td>268.612030</td>\n",
       "    </tr>\n",
       "    <tr>\n",
       "      <th>6</th>\n",
       "      <td>268.612335</td>\n",
       "    </tr>\n",
       "    <tr>\n",
       "      <th>7</th>\n",
       "      <td>268.612579</td>\n",
       "    </tr>\n",
       "    <tr>\n",
       "      <th>8</th>\n",
       "      <td>268.612762</td>\n",
       "    </tr>\n",
       "    <tr>\n",
       "      <th>9</th>\n",
       "      <td>268.612854</td>\n",
       "    </tr>\n",
       "    <tr>\n",
       "      <th>10</th>\n",
       "      <td>268.612915</td>\n",
       "    </tr>\n",
       "  </tbody>\n",
       "</table>\n",
       "</div>"
      ],
      "text/plain": [
       "         Close\n",
       "0   107.880081\n",
       "1   108.282982\n",
       "2   109.003876\n",
       "3   268.611450\n",
       "4   268.611664\n",
       "5   268.612030\n",
       "6   268.612335\n",
       "7   268.612579\n",
       "8   268.612762\n",
       "9   268.612854\n",
       "10  268.612915"
      ]
     },
     "execution_count": 39,
     "metadata": {},
     "output_type": "execute_result"
    }
   ],
   "source": [
    "# the two weeks close prices\n",
    "new_df = pd.DataFrame (predicted_stock_price[-11:], columns = ['Close'])\n",
    "new_df\n",
    "# df = pd.DataFrame(predicted_stock_price, columns = ['Open', 'High','Low','Close','Volume'])"
   ]
  },
  {
   "cell_type": "markdown",
   "id": "3962526e",
   "metadata": {},
   "source": [
    "### 3) Build simple linear model for other columns depending on close price"
   ]
  },
  {
   "cell_type": "code",
   "execution_count": 40,
   "id": "de74b0e6",
   "metadata": {},
   "outputs": [],
   "source": [
    "#Sandrized the dataset\n",
    "\n",
    "from sklearn.preprocessing import StandardScaler\n",
    "# define standard scaler\n",
    "scaler = StandardScaler()\n",
    "df = df.drop(['Date'], axis=1)  \n",
    "# transform data\n",
    "df = scaler.fit_transform(df)"
   ]
  },
  {
   "cell_type": "code",
   "execution_count": 41,
   "id": "e5a54579",
   "metadata": {},
   "outputs": [],
   "source": [
    "df = pd.DataFrame(df, columns = ['Open', 'High','Low','Close','Volume'])"
   ]
  },
  {
   "cell_type": "code",
   "execution_count": 42,
   "id": "884adcf6",
   "metadata": {},
   "outputs": [],
   "source": [
    "X_train = df[['Close']]\n",
    "y_train = df.drop(['Close'], axis=1)\n",
    "X_test_new = new_df "
   ]
  },
  {
   "cell_type": "code",
   "execution_count": 43,
   "id": "317665b6",
   "metadata": {},
   "outputs": [],
   "source": [
    "from sklearn.linear_model import LinearRegression\n",
    "# Create Regression Model\n",
    "model = LinearRegression()\n",
    "# Train the model\n",
    "model.fit(X_train, y_train)\n",
    "# Use model to make predictions\n",
    "y_pred = model.predict(X_test_new)"
   ]
  },
  {
   "cell_type": "code",
   "execution_count": 44,
   "id": "ab0ca946",
   "metadata": {},
   "outputs": [
    {
     "data": {
      "text/plain": [
       "array([[107.83364071, 107.85410413, 107.85658497,   5.39127428],\n",
       "       [108.23636797, 108.25690781, 108.25939791,   5.41140912],\n",
       "       [108.95695149, 108.97762808, 108.98013476,   5.44743557],\n",
       "       [268.49581772, 268.54676974, 268.5529468 ,  13.42377562],\n",
       "       [268.49603125, 268.54698331, 268.55316038,  13.4237863 ],\n",
       "       [268.49639731, 268.54734943, 268.55352651,  13.4238046 ],\n",
       "       [268.49670235, 268.54765453, 268.55383162,  13.42381985],\n",
       "       [268.49694639, 268.54789862, 268.55407571,  13.42383205],\n",
       "       [268.49712941, 268.54808168, 268.55425877,  13.4238412 ],\n",
       "       [268.49722093, 268.54817321, 268.55435031,  13.42384577],\n",
       "       [268.49728193, 268.54823423, 268.55441133,  13.42384882]])"
      ]
     },
     "execution_count": 44,
     "metadata": {},
     "output_type": "execute_result"
    }
   ],
   "source": [
    "y_pred "
   ]
  },
  {
   "cell_type": "code",
   "execution_count": 45,
   "id": "afa68eb7",
   "metadata": {},
   "outputs": [],
   "source": [
    "final_output= pd.DataFrame(y_pred, columns = ['Open', 'High','Low','Volume'])"
   ]
  },
  {
   "cell_type": "code",
   "execution_count": 46,
   "id": "7a63075d",
   "metadata": {},
   "outputs": [
    {
     "data": {
      "text/html": [
       "<div>\n",
       "<style scoped>\n",
       "    .dataframe tbody tr th:only-of-type {\n",
       "        vertical-align: middle;\n",
       "    }\n",
       "\n",
       "    .dataframe tbody tr th {\n",
       "        vertical-align: top;\n",
       "    }\n",
       "\n",
       "    .dataframe thead th {\n",
       "        text-align: right;\n",
       "    }\n",
       "</style>\n",
       "<table border=\"1\" class=\"dataframe\">\n",
       "  <thead>\n",
       "    <tr style=\"text-align: right;\">\n",
       "      <th></th>\n",
       "      <th>Open</th>\n",
       "      <th>High</th>\n",
       "      <th>Low</th>\n",
       "      <th>Volume</th>\n",
       "    </tr>\n",
       "  </thead>\n",
       "  <tbody>\n",
       "    <tr>\n",
       "      <th>0</th>\n",
       "      <td>107.833641</td>\n",
       "      <td>107.854104</td>\n",
       "      <td>107.856585</td>\n",
       "      <td>5.391274</td>\n",
       "    </tr>\n",
       "    <tr>\n",
       "      <th>1</th>\n",
       "      <td>108.236368</td>\n",
       "      <td>108.256908</td>\n",
       "      <td>108.259398</td>\n",
       "      <td>5.411409</td>\n",
       "    </tr>\n",
       "    <tr>\n",
       "      <th>2</th>\n",
       "      <td>108.956951</td>\n",
       "      <td>108.977628</td>\n",
       "      <td>108.980135</td>\n",
       "      <td>5.447436</td>\n",
       "    </tr>\n",
       "    <tr>\n",
       "      <th>3</th>\n",
       "      <td>268.495818</td>\n",
       "      <td>268.546770</td>\n",
       "      <td>268.552947</td>\n",
       "      <td>13.423776</td>\n",
       "    </tr>\n",
       "    <tr>\n",
       "      <th>4</th>\n",
       "      <td>268.496031</td>\n",
       "      <td>268.546983</td>\n",
       "      <td>268.553160</td>\n",
       "      <td>13.423786</td>\n",
       "    </tr>\n",
       "    <tr>\n",
       "      <th>5</th>\n",
       "      <td>268.496397</td>\n",
       "      <td>268.547349</td>\n",
       "      <td>268.553527</td>\n",
       "      <td>13.423805</td>\n",
       "    </tr>\n",
       "    <tr>\n",
       "      <th>6</th>\n",
       "      <td>268.496702</td>\n",
       "      <td>268.547655</td>\n",
       "      <td>268.553832</td>\n",
       "      <td>13.423820</td>\n",
       "    </tr>\n",
       "    <tr>\n",
       "      <th>7</th>\n",
       "      <td>268.496946</td>\n",
       "      <td>268.547899</td>\n",
       "      <td>268.554076</td>\n",
       "      <td>13.423832</td>\n",
       "    </tr>\n",
       "    <tr>\n",
       "      <th>8</th>\n",
       "      <td>268.497129</td>\n",
       "      <td>268.548082</td>\n",
       "      <td>268.554259</td>\n",
       "      <td>13.423841</td>\n",
       "    </tr>\n",
       "    <tr>\n",
       "      <th>9</th>\n",
       "      <td>268.497221</td>\n",
       "      <td>268.548173</td>\n",
       "      <td>268.554350</td>\n",
       "      <td>13.423846</td>\n",
       "    </tr>\n",
       "    <tr>\n",
       "      <th>10</th>\n",
       "      <td>268.497282</td>\n",
       "      <td>268.548234</td>\n",
       "      <td>268.554411</td>\n",
       "      <td>13.423849</td>\n",
       "    </tr>\n",
       "  </tbody>\n",
       "</table>\n",
       "</div>"
      ],
      "text/plain": [
       "          Open        High         Low     Volume\n",
       "0   107.833641  107.854104  107.856585   5.391274\n",
       "1   108.236368  108.256908  108.259398   5.411409\n",
       "2   108.956951  108.977628  108.980135   5.447436\n",
       "3   268.495818  268.546770  268.552947  13.423776\n",
       "4   268.496031  268.546983  268.553160  13.423786\n",
       "5   268.496397  268.547349  268.553527  13.423805\n",
       "6   268.496702  268.547655  268.553832  13.423820\n",
       "7   268.496946  268.547899  268.554076  13.423832\n",
       "8   268.497129  268.548082  268.554259  13.423841\n",
       "9   268.497221  268.548173  268.554350  13.423846\n",
       "10  268.497282  268.548234  268.554411  13.423849"
      ]
     },
     "execution_count": 46,
     "metadata": {},
     "output_type": "execute_result"
    }
   ],
   "source": [
    "# The predicted values for the other columns \n",
    "final_output"
   ]
  },
  {
   "cell_type": "markdown",
   "id": "297af23b",
   "metadata": {},
   "source": [
    "### Summary "
   ]
  },
  {
   "cell_type": "markdown",
   "id": "81592226",
   "metadata": {},
   "source": [
    "This RNN model might not be the desirable one because it does not give us a perfect prediction of the close prices. However, we can still use it to predict the next day's close prices. \n",
    "\n",
    "The RNN model output correctly predicts the other attributes. "
   ]
  },
  {
   "cell_type": "code",
   "execution_count": null,
   "id": "7e4fe0d1",
   "metadata": {},
   "outputs": [],
   "source": []
  }
 ],
 "metadata": {
  "kernelspec": {
   "display_name": "Python 3 (ipykernel)",
   "language": "python",
   "name": "python3"
  },
  "language_info": {
   "codemirror_mode": {
    "name": "ipython",
    "version": 3
   },
   "file_extension": ".py",
   "mimetype": "text/x-python",
   "name": "python",
   "nbconvert_exporter": "python",
   "pygments_lexer": "ipython3",
   "version": "3.9.7"
  }
 },
 "nbformat": 4,
 "nbformat_minor": 5
}
